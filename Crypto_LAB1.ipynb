{
 "cells": [
  {
   "cell_type": "code",
   "execution_count": 76,
   "metadata": {},
   "outputs": [
    {
     "name": "stdout",
     "output_type": "stream",
     "text": [
      "Select an option\n",
      "1: Encrypt the message\n",
      "2: Decrypt the message\n",
      "3: End\n",
      "1\n",
      "Enter your message\n",
      "ABCDEFGHIJKLMNOPQRSTUVWXYZ\n",
      "Enter the Key\n",
      "24\n",
      "Encrypted message :YZABCDEFGHIJKLMNOPQRSTUVWX\n",
      "1: Encrypt the message\n",
      "2: Decrypt the message\n",
      "3: End\n",
      "2\n",
      "Enter your message\n",
      "YZABCDEFGHIJKLMNOPQRSTUVWX\n",
      "Enter the Key\n",
      "24\n",
      "Decrypted message :ABCDEFGHIJKLMNOPQRSTUVWXYZ\n",
      "1: Encrypt the message\n",
      "2: Decrypt the message\n",
      "3: End\n",
      "3\n"
     ]
    }
   ],
   "source": [
    "print(\"Select an option\")\n",
    "while(True):\n",
    "    print(\"1: Encrypt the message\")\n",
    "    print(\"2: Decrypt the message\")\n",
    "    print(\"3: End\")\n",
    "    n=input()\n",
    "    result=\"\"\n",
    "    if(n=='1'):\n",
    "        print(\"Enter your message\")\n",
    "        msg=input()\n",
    "        print(\"Enter the Key\")\n",
    "        key=int(input())\n",
    "        for i in range(len(msg)):\n",
    "            n=msg[i]\n",
    "            if (n.isupper()):\n",
    "                result += chr((ord(n) + key-65) % 26 + 65) \n",
    "            else:\n",
    "                result += chr((ord(n) + key-97) % 26 + 97) \n",
    "        print(\"Encrypted message :\"+result)\n",
    "    elif(n=='2'):\n",
    "        print(\"Enter your message\")\n",
    "        msg=input()\n",
    "        print(\"Enter the Key\")\n",
    "        key=int(input())\n",
    "        for i in range(len(msg)):\n",
    "            n=msg[i]\n",
    "            if (n.isupper()):\n",
    "                result += chr((ord(n) +26-key+65) % 26 + 65) \n",
    "            else:\n",
    "                result += chr((ord(n) +26-key-97) % 26 + 97) \n",
    "        print(\"Decrypted message :\"+result)\n",
    "    elif(n=='3'):\n",
    "        break\n",
    "        \n",
    "        "
   ]
  },
  {
   "cell_type": "code",
   "execution_count": 95,
   "metadata": {},
   "outputs": [
    {
     "name": "stdout",
     "output_type": "stream",
     "text": [
      "1885\n",
      "9251\n",
      "336\n",
      "7896\n",
      "6456\n",
      "9829\n",
      "33\n",
      "8464\n",
      "1342\n",
      "2801\n"
     ]
    }
   ],
   "source": [
    "for i in range(10):\n",
    "    print(random.randint(1,10000))"
   ]
  },
  {
   "cell_type": "code",
   "execution_count": null,
   "metadata": {},
   "outputs": [],
   "source": []
  },
  {
   "cell_type": "code",
   "execution_count": null,
   "metadata": {},
   "outputs": [],
   "source": []
  },
  {
   "cell_type": "code",
   "execution_count": null,
   "metadata": {},
   "outputs": [],
   "source": []
  }
 ],
 "metadata": {
  "kernelspec": {
   "display_name": "Python 3",
   "language": "python",
   "name": "python3"
  },
  "language_info": {
   "codemirror_mode": {
    "name": "ipython",
    "version": 3
   },
   "file_extension": ".py",
   "mimetype": "text/x-python",
   "name": "python",
   "nbconvert_exporter": "python",
   "pygments_lexer": "ipython3",
   "version": "3.8.3"
  }
 },
 "nbformat": 4,
 "nbformat_minor": 4
}
